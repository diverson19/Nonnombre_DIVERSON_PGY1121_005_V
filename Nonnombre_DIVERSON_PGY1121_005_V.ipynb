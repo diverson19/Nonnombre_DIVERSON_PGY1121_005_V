{
  "nbformat": 4,
  "nbformat_minor": 0,
  "metadata": {
    "colab": {
      "provenance": [],
      "authorship_tag": "ABX9TyNuTjO1KUXEqkpUaCEHuX8x",
      "include_colab_link": true
    },
    "kernelspec": {
      "name": "python3",
      "display_name": "Python 3"
    },
    "language_info": {
      "name": "python"
    }
  },
  "cells": [
    {
      "cell_type": "markdown",
      "metadata": {
        "id": "view-in-github",
        "colab_type": "text"
      },
      "source": [
        "<a href=\"https://colab.research.google.com/github/diverson19/Nonnombre_DIVERSON_PGY1121_005_V/blob/main/Nonnombre_DIVERSON_PGY1121_005_V.ipynb\" target=\"_parent\"><img src=\"https://colab.research.google.com/assets/colab-badge.svg\" alt=\"Open In Colab\"/></a>"
      ]
    },
    {
      "cell_type": "code",
      "execution_count": null,
      "metadata": {
        "colab": {
          "base_uri": "https://localhost:8080/"
        },
        "id": "0rpOQ-jUP5n9",
        "outputId": "58974018-87f9-4616-900c-d599a925b1e5"
      },
      "outputs": [
        {
          "output_type": "stream",
          "name": "stdout",
          "text": [
            "Bienvenido al programa de inmobiliaria 'MI CASA'\n",
            "\n",
            "\n",
            "----M E N U-----\n",
            "\n",
            "1.- Ver departamentos disponibles\n",
            "2.- Comprar o Arrendar departamento\n",
            "3.- Ver listado de compradores\n",
            "4.- Mostrar ganancias totales\n",
            "5.- Salir\n",
            "\n"
          ]
        }
      ],
      "source": [
        "import numpy as np\n",
        "ganancias=[]\n",
        "cantidad_depa=[]\n",
        "tipo_depa=[]\n",
        "precios = [3800, 3000, 2800, 3500]\n",
        "\n",
        "\n",
        "def mostrar_menu():\n",
        "    print(\"\\n\\n----M E N U-----\\n\")\n",
        "    print(\"1.- Ver departamentos disponibles\")\n",
        "    print(\"2.- Comprar o Arrendar departamento\")\n",
        "    print(\"3.- Ver listado de compradores\")\n",
        "    print(\"4.- Mostrar ganancias totales\")\n",
        "    print(\"5.- Salir\\n\")\n",
        "\n",
        "def ver_departamentos(departamentos):\n",
        "    print(departamentos)\n",
        "\n",
        "def comprar_departamento(departamentos, compradores):\n",
        "    letra = input(\"Ingrese el número del departamento que quiere comprar : \")\n",
        "\n",
        "    for fila in departamentos:\n",
        "        for elemento in fila:\n",
        "            if elemento == letra:\n",
        "                encontrada = True\n",
        "\n",
        "\n",
        "\n",
        "    if encontrada:\n",
        "     print(\"El departamento se encuentra disponible.\\n\")\n",
        "     print(\"1 - Comprar\")\n",
        "     opcion = int(input(\"Elige la opción de su preferencia: 1 : \"))\n",
        "\n",
        "    if opcion == 1:\n",
        "        for fila in range(len(departamentos)):\n",
        "            for columna in range(len(departamentos[fila])):\n",
        "                if departamentos[fila][columna] == letra:\n",
        "                    print(\"El departamento se encuentra disponible.\")\n",
        "                    rut = int(input(\"Ingrese su RUT (sin puntos ni dígito verificador): \"))\n",
        "                    compradores.append(rut)\n",
        "                    departamentos[fila][columna] = \"X\"\n",
        "                    print(\"\\n\")\n",
        "                    print(\"La compra fue realizada con éxito!\")\n",
        "                    ganancias.append(precios )\n",
        "                    cantidad_depa.append(1)\n",
        "                    tipo_depa.append(letra)\n",
        "        print(departamentos)\n",
        "\n",
        "    else:\n",
        "      print(f\"El departamento seleccionado '{letra}' no está disponible.\")\n",
        "      print(\"Por favor, intente nuevamente con otro.\")\n",
        "\n",
        "\n",
        "\n",
        "def ver_compradores(compradores):\n",
        "    print(compradores)\n",
        "\n",
        "def mostrar_ganancias_totales():\n",
        "\n",
        "    total_ganancias = sum(precios)\n",
        "    ganancias_formateadas = \"${:,.0f}\".format(total_ganancias).replace(\",\", \".\")\n",
        "    print(\"El total de ganancias hasta ahora es:\", ganancias_formateadas)\n",
        "    print(\"la cantidad de departamentos vendidos o arrendados son: \", sum(cantidad_depa))\n",
        "    print(\"los tipos de departamentos arrendados o vendidos son: \",tipo_depa)\n",
        "\n",
        "print(\"Bienvenido al programa de inmobiliaria 'MI CASA'\")\n",
        "\n",
        "compradores = []\n",
        "departamentos = np.array([[\"A1\", \"B1\", \"C1\", \"D1\"],\n",
        "                          [\"A2\", \"B2\", \"C2\", \"D2\"],\n",
        "                          [\"A3\", \"B3\", \"C3\", \"D3\"],\n",
        "                          [\"A4\", \"B4\", \"C4\", \"D4\"],\n",
        "                          [\"A5\", \"B5\", \"C5\", \"D5\"],\n",
        "                          [\"A6\", \"B6\", \"C6\", \"D6\"],\n",
        "                          [\"A7\", \"B7\", \"C7\", \"D7\"],\n",
        "                          [\"A8\", \"B8\", \"C8\", \"D8\"],\n",
        "                          [\"A9\", \"B9\", \"C9\", \"D9\"],\n",
        "                          [\"A10\", \"B10\", \"C10\", \"D10\"]])\n",
        "\n",
        "while True:\n",
        "    mostrar_menu()\n",
        "    op = int(input(\"Digite la opción de su preferencia: \"))\n",
        "\n",
        "    if op == 1:\n",
        "        ver_departamentos(departamentos)\n",
        "\n",
        "    elif op == 2:\n",
        "        comprar_departamento(departamentos, compradores)\n",
        "\n",
        "    elif op == 3:\n",
        "        ver_compradores(compradores)\n",
        "\n",
        "    elif op == 4:\n",
        "        mostrar_ganancias_totales()\n",
        "\n",
        "    elif op == 5:\n",
        "        print(\"Gracias por usar nuestro programa. ¡Hasta luego!\")\n",
        "        break"
      ]
    }
  ]
}